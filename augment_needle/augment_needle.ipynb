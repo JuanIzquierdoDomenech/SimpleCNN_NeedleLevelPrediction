{
 "cells": [
  {
   "cell_type": "code",
   "execution_count": 1,
   "metadata": {},
   "outputs": [],
   "source": [
    "import Augmentor\n",
    "import os\n",
    "import glob\n",
    "\n",
    "from PIL import Image"
   ]
  },
  {
   "cell_type": "code",
   "execution_count": 2,
   "metadata": {},
   "outputs": [],
   "source": [
    "root_directory = \"images/*\""
   ]
  },
  {
   "cell_type": "code",
   "execution_count": 3,
   "metadata": {},
   "outputs": [
    {
     "name": "stdout",
     "output_type": "stream",
     "text": [
      "Folders (classes) found: ['20', '18', '9', '0', '11', '7', '16', '6', '17', '1', '10', '19', '8', '21', '24', '23', '4', '15', '3', '12', '2', '13', '5', '14', '22', '25'] \n"
     ]
    }
   ],
   "source": [
    "folders = []\n",
    "for f in glob.glob(root_directory):\n",
    "    if os.path.isdir(f):\n",
    "        folders.append(os.path.abspath(f))\n",
    "\n",
    "print(\"Folders (classes) found: %s \" % [os.path.split(x)[1] for x in folders])"
   ]
  },
  {
   "cell_type": "code",
   "execution_count": 4,
   "metadata": {},
   "outputs": [
    {
     "name": "stdout",
     "output_type": "stream",
     "text": [
      "Folder /Users/juanjesusizquierdo/Desktop/ML-DL/SimpleCNNMachineNeddleVoidLevel/augment_needle/images/20:\n",
      "Initialised with 4 image(s) found.\n",
      "Output directory set to /Users/juanjesusizquierdo/Desktop/ML-DL/SimpleCNNMachineNeddleVoidLevel/augment_needle/images/20/output.\n",
      "----------------------------\n",
      "\n",
      "Folder /Users/juanjesusizquierdo/Desktop/ML-DL/SimpleCNNMachineNeddleVoidLevel/augment_needle/images/18:\n",
      "Initialised with 4 image(s) found.\n",
      "Output directory set to /Users/juanjesusizquierdo/Desktop/ML-DL/SimpleCNNMachineNeddleVoidLevel/augment_needle/images/18/output.\n",
      "----------------------------\n",
      "\n",
      "Folder /Users/juanjesusizquierdo/Desktop/ML-DL/SimpleCNNMachineNeddleVoidLevel/augment_needle/images/9:\n",
      "Initialised with 4 image(s) found.\n",
      "Output directory set to /Users/juanjesusizquierdo/Desktop/ML-DL/SimpleCNNMachineNeddleVoidLevel/augment_needle/images/9/output.\n",
      "----------------------------\n",
      "\n",
      "Folder /Users/juanjesusizquierdo/Desktop/ML-DL/SimpleCNNMachineNeddleVoidLevel/augment_needle/images/0:\n",
      "Initialised with 4 image(s) found.\n",
      "Output directory set to /Users/juanjesusizquierdo/Desktop/ML-DL/SimpleCNNMachineNeddleVoidLevel/augment_needle/images/0/output.\n",
      "----------------------------\n",
      "\n",
      "Folder /Users/juanjesusizquierdo/Desktop/ML-DL/SimpleCNNMachineNeddleVoidLevel/augment_needle/images/11:\n",
      "Initialised with 4 image(s) found.\n",
      "Output directory set to /Users/juanjesusizquierdo/Desktop/ML-DL/SimpleCNNMachineNeddleVoidLevel/augment_needle/images/11/output.\n",
      "----------------------------\n",
      "\n",
      "Folder /Users/juanjesusizquierdo/Desktop/ML-DL/SimpleCNNMachineNeddleVoidLevel/augment_needle/images/7:\n",
      "Initialised with 4 image(s) found.\n",
      "Output directory set to /Users/juanjesusizquierdo/Desktop/ML-DL/SimpleCNNMachineNeddleVoidLevel/augment_needle/images/7/output.\n",
      "----------------------------\n",
      "\n",
      "Folder /Users/juanjesusizquierdo/Desktop/ML-DL/SimpleCNNMachineNeddleVoidLevel/augment_needle/images/16:\n",
      "Initialised with 4 image(s) found.\n",
      "Output directory set to /Users/juanjesusizquierdo/Desktop/ML-DL/SimpleCNNMachineNeddleVoidLevel/augment_needle/images/16/output.\n",
      "----------------------------\n",
      "\n",
      "Folder /Users/juanjesusizquierdo/Desktop/ML-DL/SimpleCNNMachineNeddleVoidLevel/augment_needle/images/6:\n",
      "Initialised with 4 image(s) found.\n",
      "Output directory set to /Users/juanjesusizquierdo/Desktop/ML-DL/SimpleCNNMachineNeddleVoidLevel/augment_needle/images/6/output.\n",
      "----------------------------\n",
      "\n",
      "Folder /Users/juanjesusizquierdo/Desktop/ML-DL/SimpleCNNMachineNeddleVoidLevel/augment_needle/images/17:\n",
      "Initialised with 4 image(s) found.\n",
      "Output directory set to /Users/juanjesusizquierdo/Desktop/ML-DL/SimpleCNNMachineNeddleVoidLevel/augment_needle/images/17/output.\n",
      "----------------------------\n",
      "\n",
      "Folder /Users/juanjesusizquierdo/Desktop/ML-DL/SimpleCNNMachineNeddleVoidLevel/augment_needle/images/1:\n",
      "Initialised with 4 image(s) found.\n",
      "Output directory set to /Users/juanjesusizquierdo/Desktop/ML-DL/SimpleCNNMachineNeddleVoidLevel/augment_needle/images/1/output.\n",
      "----------------------------\n",
      "\n",
      "Folder /Users/juanjesusizquierdo/Desktop/ML-DL/SimpleCNNMachineNeddleVoidLevel/augment_needle/images/10:\n",
      "Initialised with 4 image(s) found.\n",
      "Output directory set to /Users/juanjesusizquierdo/Desktop/ML-DL/SimpleCNNMachineNeddleVoidLevel/augment_needle/images/10/output.\n",
      "----------------------------\n",
      "\n",
      "Folder /Users/juanjesusizquierdo/Desktop/ML-DL/SimpleCNNMachineNeddleVoidLevel/augment_needle/images/19:\n",
      "Initialised with 4 image(s) found.\n",
      "Output directory set to /Users/juanjesusizquierdo/Desktop/ML-DL/SimpleCNNMachineNeddleVoidLevel/augment_needle/images/19/output.\n",
      "----------------------------\n",
      "\n",
      "Folder /Users/juanjesusizquierdo/Desktop/ML-DL/SimpleCNNMachineNeddleVoidLevel/augment_needle/images/8:\n",
      "Initialised with 4 image(s) found.\n",
      "Output directory set to /Users/juanjesusizquierdo/Desktop/ML-DL/SimpleCNNMachineNeddleVoidLevel/augment_needle/images/8/output.\n",
      "----------------------------\n",
      "\n",
      "Folder /Users/juanjesusizquierdo/Desktop/ML-DL/SimpleCNNMachineNeddleVoidLevel/augment_needle/images/21:\n",
      "Initialised with 4 image(s) found.\n",
      "Output directory set to /Users/juanjesusizquierdo/Desktop/ML-DL/SimpleCNNMachineNeddleVoidLevel/augment_needle/images/21/output.\n",
      "----------------------------\n",
      "\n",
      "Folder /Users/juanjesusizquierdo/Desktop/ML-DL/SimpleCNNMachineNeddleVoidLevel/augment_needle/images/24:\n",
      "Initialised with 4 image(s) found.\n",
      "Output directory set to /Users/juanjesusizquierdo/Desktop/ML-DL/SimpleCNNMachineNeddleVoidLevel/augment_needle/images/24/output.\n",
      "----------------------------\n",
      "\n",
      "Folder /Users/juanjesusizquierdo/Desktop/ML-DL/SimpleCNNMachineNeddleVoidLevel/augment_needle/images/23:\n",
      "Initialised with 4 image(s) found.\n",
      "Output directory set to /Users/juanjesusizquierdo/Desktop/ML-DL/SimpleCNNMachineNeddleVoidLevel/augment_needle/images/23/output.\n",
      "----------------------------\n",
      "\n",
      "Folder /Users/juanjesusizquierdo/Desktop/ML-DL/SimpleCNNMachineNeddleVoidLevel/augment_needle/images/4:\n",
      "Initialised with 4 image(s) found.\n",
      "Output directory set to /Users/juanjesusizquierdo/Desktop/ML-DL/SimpleCNNMachineNeddleVoidLevel/augment_needle/images/4/output.\n",
      "----------------------------\n",
      "\n",
      "Folder /Users/juanjesusizquierdo/Desktop/ML-DL/SimpleCNNMachineNeddleVoidLevel/augment_needle/images/15:\n",
      "Initialised with 4 image(s) found.\n",
      "Output directory set to /Users/juanjesusizquierdo/Desktop/ML-DL/SimpleCNNMachineNeddleVoidLevel/augment_needle/images/15/output.\n",
      "----------------------------\n",
      "\n",
      "Folder /Users/juanjesusizquierdo/Desktop/ML-DL/SimpleCNNMachineNeddleVoidLevel/augment_needle/images/3:\n",
      "Initialised with 4 image(s) found.\n",
      "Output directory set to /Users/juanjesusizquierdo/Desktop/ML-DL/SimpleCNNMachineNeddleVoidLevel/augment_needle/images/3/output.\n",
      "----------------------------\n",
      "\n",
      "Folder /Users/juanjesusizquierdo/Desktop/ML-DL/SimpleCNNMachineNeddleVoidLevel/augment_needle/images/12:\n",
      "Initialised with 4 image(s) found.\n",
      "Output directory set to /Users/juanjesusizquierdo/Desktop/ML-DL/SimpleCNNMachineNeddleVoidLevel/augment_needle/images/12/output.\n",
      "----------------------------\n",
      "\n",
      "Folder /Users/juanjesusizquierdo/Desktop/ML-DL/SimpleCNNMachineNeddleVoidLevel/augment_needle/images/2:\n",
      "Initialised with 4 image(s) found.\n",
      "Output directory set to /Users/juanjesusizquierdo/Desktop/ML-DL/SimpleCNNMachineNeddleVoidLevel/augment_needle/images/2/output.\n",
      "----------------------------\n",
      "\n",
      "Folder /Users/juanjesusizquierdo/Desktop/ML-DL/SimpleCNNMachineNeddleVoidLevel/augment_needle/images/13:\n",
      "Initialised with 4 image(s) found.\n",
      "Output directory set to /Users/juanjesusizquierdo/Desktop/ML-DL/SimpleCNNMachineNeddleVoidLevel/augment_needle/images/13/output.\n",
      "----------------------------\n",
      "\n",
      "Folder /Users/juanjesusizquierdo/Desktop/ML-DL/SimpleCNNMachineNeddleVoidLevel/augment_needle/images/5:\n",
      "Initialised with 4 image(s) found.\n",
      "Output directory set to /Users/juanjesusizquierdo/Desktop/ML-DL/SimpleCNNMachineNeddleVoidLevel/augment_needle/images/5/output.\n",
      "----------------------------\n",
      "\n",
      "Folder /Users/juanjesusizquierdo/Desktop/ML-DL/SimpleCNNMachineNeddleVoidLevel/augment_needle/images/14:\n",
      "Initialised with 4 image(s) found.\n",
      "Output directory set to /Users/juanjesusizquierdo/Desktop/ML-DL/SimpleCNNMachineNeddleVoidLevel/augment_needle/images/14/output.\n",
      "----------------------------\n",
      "\n",
      "Folder /Users/juanjesusizquierdo/Desktop/ML-DL/SimpleCNNMachineNeddleVoidLevel/augment_needle/images/22:\n",
      "Initialised with 4 image(s) found.\n",
      "Output directory set to /Users/juanjesusizquierdo/Desktop/ML-DL/SimpleCNNMachineNeddleVoidLevel/augment_needle/images/22/output.\n",
      "----------------------------\n",
      "\n",
      "Folder /Users/juanjesusizquierdo/Desktop/ML-DL/SimpleCNNMachineNeddleVoidLevel/augment_needle/images/25:\n",
      "Initialised with 4 image(s) found.\n",
      "Output directory set to /Users/juanjesusizquierdo/Desktop/ML-DL/SimpleCNNMachineNeddleVoidLevel/augment_needle/images/25/output.\n",
      "----------------------------\n",
      "\n"
     ]
    }
   ],
   "source": [
    "pipelines = {}\n",
    "for folder in folders:\n",
    "    print(\"Folder %s:\" % (folder))\n",
    "    pipelines[os.path.split(folder)[1]] = (Augmentor.Pipeline(folder))\n",
    "    print(\"\\n----------------------------\\n\")"
   ]
  },
  {
   "cell_type": "code",
   "execution_count": 5,
   "metadata": {},
   "outputs": [
    {
     "name": "stdout",
     "output_type": "stream",
     "text": [
      "Class 20 has 4 samples.\n",
      "Class 18 has 4 samples.\n",
      "Class 9 has 4 samples.\n",
      "Class 0 has 4 samples.\n",
      "Class 11 has 4 samples.\n",
      "Class 7 has 4 samples.\n",
      "Class 16 has 4 samples.\n",
      "Class 6 has 4 samples.\n",
      "Class 17 has 4 samples.\n",
      "Class 1 has 4 samples.\n",
      "Class 10 has 4 samples.\n",
      "Class 19 has 4 samples.\n",
      "Class 8 has 4 samples.\n",
      "Class 21 has 4 samples.\n",
      "Class 24 has 4 samples.\n",
      "Class 23 has 4 samples.\n",
      "Class 4 has 4 samples.\n",
      "Class 15 has 4 samples.\n",
      "Class 3 has 4 samples.\n",
      "Class 12 has 4 samples.\n",
      "Class 2 has 4 samples.\n",
      "Class 13 has 4 samples.\n",
      "Class 5 has 4 samples.\n",
      "Class 14 has 4 samples.\n",
      "Class 22 has 4 samples.\n",
      "Class 25 has 4 samples.\n"
     ]
    }
   ],
   "source": [
    "for p in pipelines.values():\n",
    "    print(\"Class %s has %s samples.\" % (p.augmentor_images[0].class_label, len(p.augmentor_images)))"
   ]
  },
  {
   "cell_type": "code",
   "execution_count": 6,
   "metadata": {},
   "outputs": [],
   "source": [
    "for pipeline in pipelines.values():\n",
    "    pipeline.zoom(probability=0.3, min_factor=1.0, max_factor=1.1)\n",
    "    pipeline.rotate(probability=0.3, max_left_rotation=5, max_right_rotation=5)\n",
    "    pipeline.skew_corner(probability=0.3, magnitude=0.1)"
   ]
  },
  {
   "cell_type": "code",
   "execution_count": 7,
   "metadata": {},
   "outputs": [
    {
     "name": "stderr",
     "output_type": "stream",
     "text": [
      "Processing <PIL.Image.Image image mode=RGB size=784x772 at 0x10A207E90>: 100%|██████████| 1000/1000 [00:16<00:00, 60.09 Samples/s]                 \n",
      "Processing <PIL.JpegImagePlugin.JpegImageFile image mode=RGB size=902x897 at 0x10A123890>: 100%|██████████| 1000/1000 [00:25<00:00, 39.57 Samples/s]\n",
      "Processing <PIL.Image.Image image mode=RGB size=933x915 at 0x10A24EFD0>: 100%|██████████| 1000/1000 [00:27<00:00, 36.54 Samples/s]                 \n",
      "Processing <PIL.Image.Image image mode=RGB size=870x841 at 0x10A255DD0>: 100%|██████████| 1000/1000 [00:22<00:00, 44.82 Samples/s]                 \n",
      "Processing <PIL.JpegImagePlugin.JpegImageFile image mode=RGB size=954x937 at 0x10A263450>: 100%|██████████| 1000/1000 [00:25<00:00, 39.39 Samples/s]\n",
      "Processing <PIL.JpegImagePlugin.JpegImageFile image mode=RGB size=767x765 at 0x10A28AC10>: 100%|██████████| 1000/1000 [00:16<00:00, 59.28 Samples/s]\n",
      "Processing <PIL.Image.Image image mode=RGB size=875x845 at 0x10A25FE50>: 100%|██████████| 1000/1000 [00:21<00:00, 47.08 Samples/s]                 \n",
      "Processing <PIL.Image.Image image mode=RGB size=792x765 at 0x10A275310>: 100%|██████████| 1000/1000 [00:17<00:00, 57.80 Samples/s]                 \n",
      "Processing <PIL.Image.Image image mode=RGB size=887x910 at 0x10A08D090>: 100%|██████████| 1000/1000 [00:23<00:00, 42.27 Samples/s]                 \n",
      "Processing <PIL.Image.Image image mode=RGB size=898x877 at 0x10A2ED890>: 100%|██████████| 1000/1000 [00:23<00:00, 42.57 Samples/s]                 \n",
      "Processing <PIL.JpegImagePlugin.JpegImageFile image mode=RGB size=917x880 at 0x10A1F77D0>: 100%|██████████| 1000/1000 [00:23<00:00, 41.99 Samples/s]\n",
      "Processing <PIL.Image.Image image mode=RGB size=864x858 at 0x10A25F710>: 100%|██████████| 1000/1000 [00:22<00:00, 45.31 Samples/s]                 \n",
      "Processing <PIL.JpegImagePlugin.JpegImageFile image mode=RGB size=972x965 at 0x10A29B690>: 100%|██████████| 1000/1000 [00:25<00:00, 39.33 Samples/s]\n",
      "Processing <PIL.Image.Image image mode=RGB size=849x810 at 0x10A2A91D0>: 100%|██████████| 1000/1000 [00:21<00:00, 45.49 Samples/s]                 \n",
      "Processing <PIL.Image.Image image mode=RGB size=956x938 at 0x10A08F710>: 100%|██████████| 1000/1000 [00:25<00:00, 39.39 Samples/s]                 \n",
      "Processing <PIL.JpegImagePlugin.JpegImageFile image mode=RGB size=965x954 at 0x10A059DD0>: 100%|██████████| 1000/1000 [00:27<00:00, 36.67 Samples/s]\n",
      "Processing <PIL.Image.Image image mode=RGB size=886x874 at 0x107D80210>: 100%|██████████| 1000/1000 [00:23<00:00, 43.16 Samples/s]                 \n",
      "Processing <PIL.Image.Image image mode=RGB size=860x851 at 0x10A281B10>: 100%|██████████| 1000/1000 [00:21<00:00, 47.50 Samples/s]                 \n",
      "Processing <PIL.Image.Image image mode=RGB size=877x858 at 0x10A0E0D10>: 100%|██████████| 1000/1000 [00:23<00:00, 43.17 Samples/s]                 \n",
      "Processing <PIL.Image.Image image mode=RGB size=936x917 at 0x10A1BE350>: 100%|██████████| 1000/1000 [00:25<00:00, 38.72 Samples/s]                 \n",
      "Processing <PIL.Image.Image image mode=RGB size=893x867 at 0x10A255150>: 100%|██████████| 1000/1000 [00:22<00:00, 44.18 Samples/s]                 \n",
      "Processing <PIL.Image.Image image mode=RGB size=897x904 at 0x10A2772D0>: 100%|██████████| 1000/1000 [00:24<00:00, 40.30 Samples/s]                 \n",
      "Processing <PIL.Image.Image image mode=RGB size=804x782 at 0x10A04EB90>: 100%|██████████| 1000/1000 [00:19<00:00, 51.62 Samples/s]                 \n",
      "Processing <PIL.Image.Image image mode=RGB size=855x843 at 0x10A277E50>: 100%|██████████| 1000/1000 [00:21<00:00, 46.47 Samples/s]                 \n",
      "Processing <PIL.JpegImagePlugin.JpegImageFile image mode=RGB size=829x808 at 0x10A1DA990>: 100%|██████████| 1000/1000 [00:19<00:00, 50.11 Samples/s]\n",
      "Processing <PIL.Image.Image image mode=RGB size=964x962 at 0x10A0DA550>: 100%|██████████| 1000/1000 [00:25<00:00, 39.04 Samples/s]                 \n"
     ]
    }
   ],
   "source": [
    "for pipeline in pipelines.values():\n",
    "    pipeline.sample(1000)"
   ]
  }
 ],
 "metadata": {
  "kernelspec": {
   "display_name": "Python 3",
   "language": "python",
   "name": "python3"
  },
  "language_info": {
   "codemirror_mode": {
    "name": "ipython",
    "version": 3
   },
   "file_extension": ".py",
   "mimetype": "text/x-python",
   "name": "python",
   "nbconvert_exporter": "python",
   "pygments_lexer": "ipython3",
   "version": "3.7.7"
  }
 },
 "nbformat": 4,
 "nbformat_minor": 4
}
